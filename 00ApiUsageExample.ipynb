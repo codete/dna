{
 "cells": [
  {
   "cell_type": "code",
   "execution_count": null,
   "metadata": {},
   "outputs": [],
   "source": [
    "# import API from the module\n",
    "from api import DnaApi\n",
    "\n",
    "# instantiate API providing its key, check account information\n",
    "API_KEY = '<put you api key here>'\n",
    "\n",
    "api = DnaApi(api_key=API_KEY)\n",
    "api.account_data"
   ]
  },
  {
   "cell_type": "code",
   "execution_count": null,
   "metadata": {},
   "outputs": [],
   "source": [
    "# example query\n",
    "query = {\n",
    "  \"query\": {\n",
    "    \"where\": \"language_code='en' AND body like '%Jeff Bezos%' AND (publication_date >= '2005-01-01 00:00:00' AND publication_date < '2018-01-01 00:00:00')\",\n",
    "    \"limit\": 10\n",
    "  }\n",
    "}"
   ]
  },
  {
   "cell_type": "code",
   "execution_count": null,
   "metadata": {},
   "outputs": [],
   "source": [
    "# run explanation job\n",
    "explanation_job = api.run_explanation_job(query)\n",
    "explanation_job.status"
   ]
  },
  {
   "cell_type": "code",
   "execution_count": null,
   "metadata": {},
   "outputs": [],
   "source": [
    "# wait for the job to finish\n",
    "# \n",
    "# params:  \n",
    "#   * verbose (default: True) - print job status everytime request is done\n",
    "#   * sleep_time (default: 10) - time period between requests if job is still running\n",
    "\n",
    "explanation_result = explanation_job.wait_until_complete(verbose=True)\n",
    "explanation_result"
   ]
  },
  {
   "cell_type": "code",
   "execution_count": null,
   "metadata": {},
   "outputs": [],
   "source": []
  }
 ],
 "metadata": {
  "kernelspec": {
   "display_name": "Python 3",
   "language": "python",
   "name": "python3"
  },
  "language_info": {
   "codemirror_mode": {
    "name": "ipython",
    "version": 3
   },
   "file_extension": ".py",
   "mimetype": "text/x-python",
   "name": "python",
   "nbconvert_exporter": "python",
   "pygments_lexer": "ipython3",
   "version": "3.6.4"
  }
 },
 "nbformat": 4,
 "nbformat_minor": 1
}
